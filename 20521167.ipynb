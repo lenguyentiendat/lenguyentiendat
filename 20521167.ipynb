{
  "nbformat": 4,
  "nbformat_minor": 0,
  "metadata": {
    "colab": {
      "name": "20521167.ipynb",
      "provenance": [],
      "collapsed_sections": [],
      "authorship_tag": "ABX9TyPS4TPil0wH4w3zlIoFVO0t",
      "include_colab_link": true
    },
    "kernelspec": {
      "name": "python3",
      "display_name": "Python 3"
    },
    "language_info": {
      "name": "python"
    }
  },
  "cells": [
    {
      "cell_type": "markdown",
      "metadata": {
        "id": "view-in-github",
        "colab_type": "text"
      },
      "source": [
        "<a href=\"https://colab.research.google.com/github/lenguyentiendat/lenguyentiendat/blob/main/20521167.ipynb\" target=\"_parent\"><img src=\"https://colab.research.google.com/assets/colab-badge.svg\" alt=\"Open In Colab\"/></a>"
      ]
    },
    {
      "cell_type": "markdown",
      "source": [
        "#Section: Thông tin\n",
        "1.MSSV: 20521167\n",
        "\n",
        "2.Họ tên: Lê Nguyễn Tiến Đạt\n",
        "\n",
        "3.Bài tập: 1\n",
        "\n",
        "4.Ngày thực hiện:28/02/2022"
      ],
      "metadata": {
        "id": "TQFBmDw4SWDG"
      }
    },
    {
      "cell_type": "markdown",
      "source": [
        "#Yêu cầu 1\n"
      ],
      "metadata": {
        "id": "j7Gc5cJCTKq0"
      }
    },
    {
      "cell_type": "code",
      "source": [
        "from google.colab import drive\n",
        "drive.mount('/gdrive')"
      ],
      "metadata": {
        "colab": {
          "base_uri": "https://localhost:8080/"
        },
        "id": "OvjF5jm8TPf9",
        "outputId": "439d70ae-7ce5-47b3-a524-d757c9162560"
      },
      "execution_count": null,
      "outputs": [
        {
          "output_type": "stream",
          "name": "stdout",
          "text": [
            "Mounted at /gdrive\n"
          ]
        }
      ]
    },
    {
      "cell_type": "code",
      "source": [
        "import os\n",
        "dir_monhoc = '/gdrive/MyDrive/CS231.M21.KHCL'\n",
        "\n",
        "dir_baitap = os.path.join(dir_monhoc, 'Baitap', 'Baitap1')\n",
        "dir_images = os.path.join(dir_baitap, 'images')"
      ],
      "metadata": {
        "id": "Zk6af86LTnRO"
      },
      "execution_count": null,
      "outputs": []
    },
    {
      "cell_type": "code",
      "source": [
        "#Đọc và hiển thị ảnh\n",
        "import cv2 as cv\n",
        "\n",
        "path_filename = os.path.join(dir_images,'lena.jpg')\n",
        "img = cv.imread(path_filename,0)\n",
        "\n",
        "from google.colab.patches import cv2_imshow\n",
        "cv2_imshow(img)\n",
        "\n",
        "\n",
        "\n"
      ],
      "metadata": {
        "colab": {
          "base_uri": "https://localhost:8080/",
          "height": 356
        },
        "id": "nHrASf5nU9zi",
        "outputId": "92e518a4-1566-4419-d49b-d5202ad6aeed"
      },
      "execution_count": null,
      "outputs": [
        {
          "output_type": "error",
          "ename": "AttributeError",
          "evalue": "ignored",
          "traceback": [
            "\u001b[0;31m---------------------------------------------------------------------------\u001b[0m",
            "\u001b[0;31mAttributeError\u001b[0m                            Traceback (most recent call last)",
            "\u001b[0;32m<ipython-input-4-d050ed0dd071>\u001b[0m in \u001b[0;36m<module>\u001b[0;34m()\u001b[0m\n\u001b[1;32m      6\u001b[0m \u001b[0;34m\u001b[0m\u001b[0m\n\u001b[1;32m      7\u001b[0m \u001b[0;32mfrom\u001b[0m \u001b[0mgoogle\u001b[0m\u001b[0;34m.\u001b[0m\u001b[0mcolab\u001b[0m\u001b[0;34m.\u001b[0m\u001b[0mpatches\u001b[0m \u001b[0;32mimport\u001b[0m \u001b[0mcv2_imshow\u001b[0m\u001b[0;34m\u001b[0m\u001b[0;34m\u001b[0m\u001b[0m\n\u001b[0;32m----> 8\u001b[0;31m \u001b[0mcv2_imshow\u001b[0m\u001b[0;34m(\u001b[0m\u001b[0mimg\u001b[0m\u001b[0;34m)\u001b[0m\u001b[0;34m\u001b[0m\u001b[0;34m\u001b[0m\u001b[0m\n\u001b[0m\u001b[1;32m      9\u001b[0m \u001b[0;34m\u001b[0m\u001b[0m\n\u001b[1;32m     10\u001b[0m \u001b[0;34m\u001b[0m\u001b[0m\n",
            "\u001b[0;32m/usr/local/lib/python3.7/dist-packages/google/colab/patches/__init__.py\u001b[0m in \u001b[0;36mcv2_imshow\u001b[0;34m(a)\u001b[0m\n\u001b[1;32m     20\u001b[0m       \u001b[0mimage\u001b[0m\u001b[0;34m.\u001b[0m\u001b[0;34m\u001b[0m\u001b[0;34m\u001b[0m\u001b[0m\n\u001b[1;32m     21\u001b[0m   \"\"\"\n\u001b[0;32m---> 22\u001b[0;31m   \u001b[0ma\u001b[0m \u001b[0;34m=\u001b[0m \u001b[0ma\u001b[0m\u001b[0;34m.\u001b[0m\u001b[0mclip\u001b[0m\u001b[0;34m(\u001b[0m\u001b[0;36m0\u001b[0m\u001b[0;34m,\u001b[0m \u001b[0;36m255\u001b[0m\u001b[0;34m)\u001b[0m\u001b[0;34m.\u001b[0m\u001b[0mastype\u001b[0m\u001b[0;34m(\u001b[0m\u001b[0;34m'uint8'\u001b[0m\u001b[0;34m)\u001b[0m\u001b[0;34m\u001b[0m\u001b[0;34m\u001b[0m\u001b[0m\n\u001b[0m\u001b[1;32m     23\u001b[0m   \u001b[0;31m# cv2 stores colors as BGR; convert to RGB\u001b[0m\u001b[0;34m\u001b[0m\u001b[0;34m\u001b[0m\u001b[0;34m\u001b[0m\u001b[0m\n\u001b[1;32m     24\u001b[0m   \u001b[0;32mif\u001b[0m \u001b[0ma\u001b[0m\u001b[0;34m.\u001b[0m\u001b[0mndim\u001b[0m \u001b[0;34m==\u001b[0m \u001b[0;36m3\u001b[0m\u001b[0;34m:\u001b[0m\u001b[0;34m\u001b[0m\u001b[0;34m\u001b[0m\u001b[0m\n",
            "\u001b[0;31mAttributeError\u001b[0m: 'NoneType' object has no attribute 'clip'"
          ]
        }
      ]
    },
    {
      "cell_type": "code",
      "source": [
        "import numpy as np\n",
        "#hist = np.histogram(img.flatten(),256,[0,256])\n",
        "\n",
        "hist = cv.calcHist([img],[0],None,[256],[0,256])\n",
        "import matplotlib.pyplot as plt\n",
        "plt.plot(hist)\n",
        "plt.xlim([0,256])\n",
        "plt.legend(('histogram'),loc = 'upper left')\n",
        "plt.show()"
      ],
      "metadata": {
        "id": "SWubJ1m5W3EO"
      },
      "execution_count": null,
      "outputs": []
    },
    {
      "cell_type": "markdown",
      "source": [
        "#Yêu cầu 2"
      ],
      "metadata": {
        "id": "2LRCmrszXre-"
      }
    },
    {
      "cell_type": "code",
      "source": [
        "#Hàm tính histogram\n",
        "def TinhHist(pathfilename):\n",
        "    img = cv.imread(pathfilename,0)\n",
        "    hist = cv.calcHist([img],[0],None,[256],[0,256])\n",
        "    size = img.shape[0]*img.shape[1]\n",
        "    hist = hist/size\n",
        "    return hist\n",
        "\n"
      ],
      "metadata": {
        "id": "oKybY00IXxPk"
      },
      "execution_count": null,
      "outputs": []
    },
    {
      "cell_type": "code",
      "source": [
        " #Euclidean distance between image_0814.jpg and image_0816.jpg / image_0814.jpg and image_1248.jpg\n",
        "picture1 = TinhHist(os.path.join(dir_images, 'image_0814.jpg'))\n",
        "picture2 = TinhHist(os.path.join(dir_images, 'image_0816.jpg'))\n",
        "picture3 = TinhHist(os.path.join(dir_images, 'image_1248.jpg'))\n",
        "print(np.linalg.norm(picture1 - picture2))\n",
        "print(np.linalg.norm(picture1 - picture3))"
      ],
      "metadata": {
        "id": "mKeLcTemZ8DO"
      },
      "execution_count": null,
      "outputs": []
    },
    {
      "cell_type": "code",
      "source": [
        "#Consine similarity between image_0814 and image_0816 / image_0814 and image_1248\n",
        "from scipy import spatial\n",
        "ketqua1 = 1 - spatial.distance.cosine(picture1, picture2)\n",
        "ketqua2 = 1 - spatial.distance.cosine(picture1, picture3)\n",
        "print(ketqua1)\n",
        "print(ketqua2)\n",
        "\n",
        "\n"
      ],
      "metadata": {
        "id": "cQQqIlbafW22"
      },
      "execution_count": null,
      "outputs": []
    }
  ]
}